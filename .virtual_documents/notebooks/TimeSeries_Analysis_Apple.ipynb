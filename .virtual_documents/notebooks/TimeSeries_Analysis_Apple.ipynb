# Import reqired libraries
import numpy as np
import yfinance as yf
import pandas as pd
import seaborn as sns
import matplotlib as mpl
import matplotlib.dates as mdates
from datetime import datetime
from scipy.stats import norm
import os
import matplotlib.pyplot as plt
from statsmodels.tsa.seasonal import seasonal_decompose
from scipy.stats import gaussian_kde
from matplotlib.backends.backend_pdf import PdfPages
from mpl_toolkits.axes_grid1.inset_locator import inset_axes
from statsmodels.graphics.tsaplots import plot_acf, plot_pacf

# Set display options
pd.set_option('display.max_columns', None)  # Display all columns
pd.set_option('display.width', 1000)        # Set display width to a high value


# Function to print colored text
def print_colored(text, color):
    color_codes = {
        'black': '0;30',
        'red': '0;31',
        'green': '0;32',
        'yellow': '0;33',
        'blue': '0;34',
        'purple': '0;35',
        'cyan': '0;36',
        'white': '0;37',
        'bold_black': '1;30',
        'bold_red': '1;31',
        'bold_green': '1;32',
        'bold_yellow': '1;33',
        'bold_blue': '1;34',
        'bold_purple': '1;35',
        'bold_cyan': '1;36',
        'bold_white': '1;37'
    }
    color_code = color_codes.get(color, '0;30')  # Default to white if color not found
    print(f"\033[{color_code}m{text}\033[0m")

nice_fonts = {
        # Use LaTeX to write all text
        "text.usetex": True,
        "font.family": "serif",
        # Use 10pt font in plots, to match 10pt font in document
        "axes.labelsize": 10,
        "font.size": 10,
        # Make the legend/label fonts a little smaller
        "legend.fontsize": 10,
        "xtick.labelsize": 10,
        "ytick.labelsize": 10,
        #'text.latex.preamble' : [r'\usepackage{amsmath}'],
        'mathtext.fontset' : 'stix',
        'mathtext.rm' : 'serif'
}
mpl.rcParams.update(nice_fonts)


# List of assets
#assets = ['AAPL']

# Define the file path
file_path = f'../data/TSLA_enhanced_data.csv'

# Load the data into a DataFrame
df = pd.read_csv(file_path, index_col='Date', parse_dates=True)


df.head(10)


features = ['Volume', 'Daily Return', 'MA50', 'RSI', 'MACD', 'Signal Line', 'Volatility']
target = 'Close'


df = df[['Close']]


df.head(10)


# Decompose the time series for trend analysis
decomposition = seasonal_decompose(df['Close'], model='additive', period=365)
trend = decomposition.trend
seasonal = decomposition.seasonal
residual = decomposition.resid


# Function to perform EDA for a given asset
def perform_eda(df):
    print_colored(f"--- Analysis for TSLA ---", "blue")
    
    # Decompose the time series for trend analysis
    decomposition = seasonal_decompose(df['Close'], model='additive', period=365)
    trend = decomposition.trend
    seasonal = decomposition.seasonal
    residual = decomposition.resid

    # Create a large plot with subplots for various analyses
    fig, axes = plt.subplots(4, 1, figsize=(14, 12), sharex=False)
    #fig.suptitle(f'Analysis for {asset}', fontsize=16)
    
    # Time series of closing price
    axes[0].plot(df.index, df['Close'], label='Close Price')
    axes[0].set_ylabel('Price')
    axes[0].set_xlabel('Year')
    axes[0].legend(loc='best')
    axes[0].set_xlim(df.index.min(), df.index.max())
    axes[0].set_ylim(df['Close'].min(), df['Close'].max())
    
    # Trend analysis
    axes[1].plot(df.index, trend, label='Trend')
    axes[1].set_xlabel('Year')
    axes[1].set_ylabel('Price')
    axes[1].legend(loc='best')
    axes[1].set_xlim(df.index.min(), df.index.max())
    axes[1].set_ylim(trend.min(), trend.max())
    
    # Trend analysis seasonal
    axes[2].plot(df.index, seasonal, label='Seasonal')
    axes[2].set_xlabel('Year')
    axes[2].set_ylabel('Price')
    axes[2].legend(loc='best')
    axes[2].set_xlim(df.index.min(), df.index.max())
    axes[2].set_ylim(seasonal.min(), seasonal.max())
    
    # Trend analysis residual
    axes[3].plot(df.index, residual, label='Residual')
    axes[3].set_xlabel('Year')
    axes[3].set_ylabel('Price')
    axes[3].legend(loc='best')
    axes[3].set_xlim(df.index.min(), df.index.max())
    axes[3].set_ylim(residual.min(), residual.max())
    
    fig.subplots_adjust(left=0.04,
                bottom=0.02, 
                right=0.98, 
                top=0.99, 
                wspace=0.2, 
                hspace=0.3)

    # Save the figure to the PDF and show it
    plt.show()


perform_eda(df)


# PERFORM LINEAR FITTING TO GET THE TREND
# Convert datetime index to numerical format (ordinal)
x = df.index.map(pd.Timestamp.toordinal)

# Perform linear fitting to get the trend
coefficients = np.polyfit(x, df['Close'], 3)
poly_fit = np.poly1d(coefficients)

'''
coefficients = np.polyfit(df.index, df['Close'], 1)
poly_fit = np.poly1d(coefficients)

# TREND REMOVAL
co3 = co2 - poly_fit(t)

# SEASONAL REMOVAL
seasonal = np.zeros_like(co3)
period = 12
for i in range(period):
  seasonal[i::period] = np.mean(co3[i::period])
co2_deseasonalized = co3 - seasonal
'''


# Print coefficients
print("Coefficients of the linear fit:", coefficients)

# Calculate fitted values
fitted_values = poly_fit(x)

# Add a new column to the DataFrame for fitted values (trend)
df['Trend'] = fitted_values

# Print the first few rows of the DataFrame to verify
print(df.head())

# Optional: Plot the original data and the trend line
import matplotlib.pyplot as plt

plt.figure(figsize=(10, 5))
plt.plot(df.index, df['Close'], label='Original Data')
plt.plot(df.index, df['Trend'], label='Trend Line', linestyle='--')
plt.xlabel('Date')
plt.ylabel('Close Price')
plt.title('Trend Fitting')
plt.legend()
plt.show()



# PLOT THE DECOMPOSED COMPONENTS
fig, axes = plt.subplots(2, 2, figsize=(12, 8))

# Original data
axes[0][0].plot(t, co2, color='blue', marker='o', linestyle='-', markersize=5, label='Original') axes[0][0].set_ylabel(r"CO$_2$ concentration")

# Trend
axes[0][1].plot(t, co2, color='blue', marker='o', linestyle='-', markersize=5, label='Original')
axes[0][1].plot(t, poly_fit(t), color='cornflowerblue', marker='*', linestyle='', markersize=5,label='Trend')

axes[1][0].plot(t, co2, color='blue', marker='o', linestyle='-', markersize=5, label='Original')
axes[1][1].plot(t, poly_fit(t), color='cornflowerblue', marker='*', linestyle='', markersize=5, label='Trend')

'''
# Seasonal
axes[1][0].plot(t, co3, color='#ff7f0e', marker='o', linestyle='-', markersize=5, label='Seasonal') axes[1][0].set_xlabel(r"Time (years)")
axes[1][0].set_ylabel(r"CO$_2$ concentration")

# Residual
axes[1][1].plot(t, co2_deseasonalized, color='red', marker='o', linestyle='-', markersize=5,
,→ label='Residual') axes[1][1].set_xlabel(r"Time (years)")
'''

# Set labels and title for each subplot
plot_label = ['(a)', '(b)', '(c)', '(d)']
for i in range(2):
  for j in range(2):
    axes[i, j].text(0.04, 0.9, plot_label[i * 2 + j], transform=axes[i, j].transAxes)
    axes[i, j].legend(loc='lower right')

# Save plot
plt.tight_layout()
plt.savefig('plot.pdf', bbox_inches='tight')
