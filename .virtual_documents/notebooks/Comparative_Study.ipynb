# Import reqired libraries
import numpy as np
import yfinance as yf
import pandas as pd
import seaborn as sns
import matplotlib as mpl
import matplotlib.dates as mdates
from datetime import datetime
from scipy.stats import norm
import os
import matplotlib.pyplot as plt
from statsmodels.tsa.seasonal import seasonal_decompose
from scipy.stats import gaussian_kde
from matplotlib.backends.backend_pdf import PdfPages
from mpl_toolkits.axes_grid1.inset_locator import inset_axes
from statsmodels.graphics.tsaplots import plot_acf, plot_pacf

# Set display options
pd.set_option('display.max_columns', None)  # Display all columns
pd.set_option('display.width', 1000)        # Set display width to a high value


# Function to print colored text
def print_colored(text, color):
    color_codes = {
        'black': '0;30',
        'red': '0;31',
        'green': '0;32',
        'yellow': '0;33',
        'blue': '0;34',
        'purple': '0;35',
        'cyan': '0;36',
        'white': '0;37',
        'bold_black': '1;30',
        'bold_red': '1;31',
        'bold_green': '1;32',
        'bold_yellow': '1;33',
        'bold_blue': '1;34',
        'bold_purple': '1;35',
        'bold_cyan': '1;36',
        'bold_white': '1;37'
    }
    color_code = color_codes.get(color, '0;30')  # Default to white if color not found
    print(f"\033[{color_code}m{text}\033[0m")

nice_fonts = {
        # Use LaTeX to write all text
        "text.usetex": True,
        "font.family": "serif",
        # Use 10pt font in plots, to match 10pt font in document
        "axes.labelsize": 10,
        "font.size": 10,
        # Make the legend/label fonts a little smaller
        "legend.fontsize": 10,
        "xtick.labelsize": 10,
        "ytick.labelsize": 10,
        #'text.latex.preamble' : [r'\usepackage{amsmath}'],
        'mathtext.fontset' : 'stix',
        'mathtext.rm' : 'serif'
}
mpl.rcParams.update(nice_fonts)

# Define colors and line styles for each asset
styles = {
    'AAPL': {'color': 'blue', 'linestyle': '-'},
    'MSFT': {'color': 'orange', 'linestyle': '--'},
    'GOOGL': {'color': 'green', 'linestyle': '-.'},
    'AMZN': {'color': 'red', 'linestyle': ':'},
    'TSLA': {'color': 'purple', 'linestyle': '-'},
    'SPY': {'color': 'brown', 'linestyle': '--'},
    'GLD': {'color': 'pink', 'linestyle': '-'}
}


# List of assets
assets = ['AAPL', 'MSFT', 'GOOGL', 'AMZN', 'TSLA', 'SPY', 'GLD']

# Create a dictionary to store dataframes for each asset
data = {}

# Loop through each asset to load
for asset in assets:
    # Define the file path
    file_path = f'../data/{asset}_enhanced_data.csv'
    
    # Load the data into a DataFrame
    df = pd.read_csv(file_path, index_col='Date', parse_dates=True)
    data[asset] = df


for asset, df in data.items():
    duplicate_rows_df = df [df.duplicated()]
    #print("Number of duplicate rows: ", duplicate_rows_df.shape)
    #print(df.count())
    df = df.drop_duplicates ()
    data[asset] = df


for asset, df in data.items():
  print_colored(f"\n{asset} Missing Values:", "blue")
  print(df.isnull().sum())


def plot_asset_data(data, column=None, ylabel=None, xlim=None, ylim=None):
    """
    Plots the specified column for each asset in the provided data.

    Parameters:
    - data: Dictionary of DataFrames containing asset data.
    - column: The column to plot (e.g., 'Close', 'Open', etc.).
    - xlim: Tuple for x-axis limits (start_date, end_date).
    - ylim: Tuple for y-axis limits (y_min, y_max).
    """
    plt.figure(figsize=(12, 6))

    # Plot each asset with distinct styles
    for asset, df in data.items():
        plt.plot(df.index, df[column], label=asset, **styles[asset])

    # Highlight global events
    plt.axvspan(datetime(2000, 3, 10), datetime(2002, 10, 9), color='gray', alpha=0.2)#, label='Dot-com Bubble')
    plt.axvspan(datetime(2007, 10, 1), datetime(2009, 3, 9), color='gray', alpha=0.2)#, label='Financial Crisis')
    plt.axvspan(datetime(2020, 2, 20), datetime(2021, 3, 23), color='gray', alpha=0.2)#, label='COVID-19 Pandemic')

    # Format the plot
    plt.title(f'{column} of Different Assets')
    plt.xlabel('Date')
    plt.ylabel(f'{ylabel}')
    plt.xticks(rotation=45)
    plt.gca().xaxis.set_major_formatter(mdates.DateFormatter('%Y-%m'))
    plt.legend()
    plt.grid(True)

    # Set x and y limits if provided
    if xlim:
        plt.xlim(xlim)
    if ylim:
        plt.ylim(ylim)

    plt.tight_layout()
    plt.show()


# Plotting the "Close" price
plot_asset_data(data, column='Close', ylabel='Close Price')





# Improved plot with distinct colors and line styles
fig, axes = plt.subplots(1, 2, figsize=(12, 5))

# Plot each asset with distinct styles on the first subplot
for asset, df in data.items():
    axes[0].plot(df.index, df['Close'], label=asset, **styles[asset])

# Highlight global events on the first subplot
axes[0].axvspan(datetime(2000, 3, 10), datetime(2002, 10, 9), color='gray', alpha=0.2)
axes[0].axvspan(datetime(2007, 10, 1), datetime(2009, 3, 9), color='gray', alpha=0.2)
axes[0].axvspan(datetime(2020, 2, 20), datetime(2021, 3, 23), color='gray', alpha=0.2)

# Set plot limits and formatting for the first subplot
axes[0].set_title('Closing Prices of Different Assets')
axes[0].set_xlabel('Date')
axes[0].set_ylabel('Close Price (USD)')
axes[0].set_xlim(datetime(2000, 1, 1), datetime(2007, 1, 1))
axes[0].set_ylim(0, 75)
axes[0].xaxis.set_major_formatter(mdates.DateFormatter('%Y-%m'))
axes[0].tick_params(axis='x', rotation=45)
axes[0].legend()
axes[0].grid(True)

# Plot each asset with distinct styles on the second subplot
for asset, df in data.items():
    axes[1].plot(df.index, df['Close'], label=asset, **styles[asset])

# Highlight global events on the second subplot
axes[1].axvspan(datetime(2000, 3, 10), datetime(2002, 10, 9), color='gray', alpha=0.2)
axes[1].axvspan(datetime(2007, 10, 1), datetime(2009, 3, 9), color='gray', alpha=0.2)
axes[1].axvspan(datetime(2020, 2, 20), datetime(2021, 3, 23), color='gray', alpha=0.2)

# Set plot limits and formatting for the second subplot
axes[1].set_title('Closing Prices with Limited Y-Axis')
axes[1].set_xlabel('Date')
axes[1].set_ylabel('Close Price (USD)')
axes[1].set_xlim(datetime(2000, 1, 1), datetime(2007, 1, 1))
axes[1].set_ylim(0, 10)
axes[1].xaxis.set_major_formatter(mdates.DateFormatter('%Y-%m'))
axes[1].tick_params(axis='x', rotation=45)
axes[1].legend()
axes[1].grid(True)

plt.tight_layout()
plt.show()





# Improved plot with distinct colors and line styles
fig, axes = plt.subplots(1, 2, figsize=(12, 5))

# Define colors and line styles for each asset
styles = {
    'AAPL': {'color': 'blue', 'linestyle': '-'},
    'MSFT': {'color': 'orange', 'linestyle': '--'},
    'GOOGL': {'color': 'green', 'linestyle': '-.'},
    'AMZN': {'color': 'red', 'linestyle': ':'},
    'TSLA': {'color': 'purple', 'linestyle': '-'},
    'SPY': {'color': 'brown', 'linestyle': '--'},
    'GLD': {'color': 'pink', 'linestyle': '-'}
}

# Plot each asset with distinct styles on the first subplot
for asset, df in data.items():
    axes[0].plot(df.index, df['Close'], label=asset, **styles[asset])

# Highlight global events on the first subplot
axes[0].axvspan(datetime(2000, 3, 10), datetime(2002, 10, 9), color='gray', alpha=0.2)
axes[0].axvspan(datetime(2007, 10, 1), datetime(2009, 3, 9), color='gray', alpha=0.2)
axes[0].axvspan(datetime(2020, 2, 20), datetime(2021, 3, 23), color='gray', alpha=0.2)

# Set plot limits and formatting for the first subplot
axes[0].set_title('Closing Prices of Different Assets')
axes[0].set_xlabel('Date')
axes[0].set_ylabel('Close Price (USD)')
axes[0].set_xlim(datetime(2007, 1, 1), datetime(2010, 1, 1))
axes[0].set_ylim(0, 175)
axes[0].xaxis.set_major_formatter(mdates.DateFormatter('%Y-%m'))
axes[0].tick_params(axis='x', rotation=45)
axes[0].legend()
axes[0].grid(True)

# Plot each asset with distinct styles on the second subplot
for asset, df in data.items():
    axes[1].plot(df.index, df['Close'], label=asset, **styles[asset])

# Highlight global events on the second subplot
axes[1].axvspan(datetime(2000, 3, 10), datetime(2002, 10, 9), color='gray', alpha=0.2)
axes[1].axvspan(datetime(2007, 10, 1), datetime(2009, 3, 9), color='gray', alpha=0.2)
axes[1].axvspan(datetime(2020, 2, 20), datetime(2021, 3, 23), color='gray', alpha=0.2)

# Set plot limits and formatting for the second subplot
axes[1].set_title('Closing Prices with Limited Y-Axis')
axes[1].set_xlabel('Date')
axes[1].set_ylabel('Close Price (USD)')
axes[1].set_xlim(datetime(2007, 1, 1), datetime(2010, 1, 1))
axes[1].set_ylim(0, 40)
axes[1].xaxis.set_major_formatter(mdates.DateFormatter('%Y-%m'))
axes[1].tick_params(axis='x', rotation=45)
axes[1].legend()
axes[1].grid(True)

plt.tight_layout()
plt.show()





# Improved plot with distinct colors and line styles
fig, axes = plt.subplots(1, 2, figsize=(12, 5))

# Define colors and line styles for each asset
styles = {
    'AAPL': {'color': 'blue', 'linestyle': '-'},
    'MSFT': {'color': 'orange', 'linestyle': '--'},
    'GOOGL': {'color': 'green', 'linestyle': '-.'},
    'AMZN': {'color': 'red', 'linestyle': ':'},
    'TSLA': {'color': 'purple', 'linestyle': '-'},
    'SPY': {'color': 'brown', 'linestyle': '--'},
    'GLD': {'color': 'pink', 'linestyle': '-'}
}

# Plot each asset with distinct styles on the first subplot
for asset, df in data.items():
    axes[0].plot(df.index, df['Close'], label=asset, **styles[asset])

# Highlight global events on the first subplot
axes[0].axvspan(datetime(2000, 3, 10), datetime(2002, 10, 9), color='gray', alpha=0.2)
axes[0].axvspan(datetime(2007, 10, 1), datetime(2009, 3, 9), color='gray', alpha=0.2)
axes[0].axvspan(datetime(2020, 2, 20), datetime(2021, 3, 23), color='gray', alpha=0.2)

# Set plot limits and formatting for the first subplot
axes[0].set_title('Closing Prices of Different Assets')
axes[0].set_xlabel('Date')
axes[0].set_ylabel('Close Price (USD)')
axes[0].set_xlim(datetime(2019, 1, 1), datetime(2022, 1, 1))
#axes[0].set_ylim(0, 175)
axes[0].xaxis.set_major_formatter(mdates.DateFormatter('%Y-%m'))
axes[0].tick_params(axis='x', rotation=45)
axes[0].legend()
axes[0].grid(True)

# Plot each asset with distinct styles on the second subplot
for asset, df in data.items():
    axes[1].plot(df.index, df['Close'], label=asset, **styles[asset])

# Highlight global events on the second subplot
axes[1].axvspan(datetime(2000, 3, 10), datetime(2002, 10, 9), color='gray', alpha=0.2)
axes[1].axvspan(datetime(2007, 10, 1), datetime(2009, 3, 9), color='gray', alpha=0.2)
axes[1].axvspan(datetime(2020, 2, 20), datetime(2021, 3, 23), color='gray', alpha=0.2)

# Set plot limits and formatting for the second subplot
axes[1].set_title('Closing Prices with Limited Y-Axis')
axes[1].set_xlabel('Date')
axes[1].set_ylabel('Close Price (USD)')
axes[1].set_xlim(datetime(2019, 1, 1), datetime(2022, 1, 1))
axes[1].set_ylim(0, 300)
axes[1].xaxis.set_major_formatter(mdates.DateFormatter('%Y-%m'))
axes[1].tick_params(axis='x', rotation=45)
axes[1].legend()
axes[1].grid(True)

plt.tight_layout()
plt.show()





# Plotting the "Volume"
plot_asset_data(data, column='Volume', ylabel='Volume')





# Plotting the "Daily Return"
plot_asset_data(data, column='Daily Return', ylabel='Daily Return')


# Define colors and line styles for each asset
styles = {
    'AAPL': {'color': 'blue', 'linestyle': '-'},
    'MSFT': {'color': 'orange', 'linestyle': '--'},
    'GOOGL': {'color': 'green', 'linestyle': '-.'},
    'AMZN': {'color': 'red', 'linestyle': ':'},
    'TSLA': {'color': 'purple', 'linestyle': '-'},
    'SPY': {'color': 'brown', 'linestyle': '--'},
    'GLD': {'color': 'pink', 'linestyle': '-'}
}

def calculate_daily_return(df):
    """
    Calculate the daily return as a percentage.
    
    Parameters:
    - df: DataFrame containing the asset data.
    
    Returns:
    - DataFrame with an added 'return_val' column for daily returns.
    """
    df['return_val'] = ((df['Close'] - df['Open']) / df['Open']) * 100
    return df

def plot_weekly_averaged_returns(data):
    """
    Plot the weekly averaged daily returns for all assets.
    
    Parameters:
    - data: Dictionary of DataFrames containing asset data.
    """
    plt.figure(figsize=(14, 7))
    
    for asset, df in data.items():
        # Calculate daily returns
        df = calculate_daily_return(df)
        
        # Resample to get weekly average returns
        weekly_avg_return = df['return_val'].resample('W').mean()
        
        # Plot weekly averaged returns
        plt.plot(weekly_avg_return.index, weekly_avg_return, label=asset, **styles[asset])
    
    # Format the plot
    plt.title('Weekly Averaged Daily Returns of Different Assets')
    plt.xlabel('Date')
    plt.ylabel('Weekly Averaged Return (%)')
    plt.xticks(rotation=45)
    plt.gca().xaxis.set_major_formatter(mdates.DateFormatter('%Y-%m'))
    plt.legend()
    plt.grid(True)
    plt.tight_layout()
    plt.show()

# Plot the weekly averaged daily returns
plot_weekly_averaged_returns(data)


# Function to plot correlation matrix and pairplot for a specified column
def plot_stock_data(data, column='Close'):
    """
    Plot correlation matrix and pairplot for a specified column in the stock data.
    
    Parameters:
    - data: Dictionary of DataFrames containing stock data.
    - column: The column to plot (e.g., 'Close', 'Open', 'Volume', etc.).
    """
    # Extract specified column into a DataFrame
    stock_data = pd.DataFrame({name: df[column] for name, df in data.items()})

    # Calculate the correlation matrix
    correlation_matrix = stock_data.corr()

    print(correlation_matrix)

    # Plot the correlation matrix
    plt.figure(figsize=(10, 8))
    sns.heatmap(correlation_matrix, annot=True, fmt=".2f", cmap='coolwarm', cbar_kws={'label': 'Correlation Coefficient'})
    plt.title(f'Correlation Matrix of {column} Prices')
    plt.show()

    # Plot a pairplot of the specified column with KDE
    sns.pairplot(stock_data, kind='scatter', diag_kind='kde', plot_kws={'alpha': 0.6, 's': 50}, diag_kws={'fill': True})

    # Add title and show plot
    plt.suptitle(f'Pairplot of {column} Prices', y=1.02)
    plt.show()


# Plotting "Close" prices
plot_stock_data(data, column='Close')





# Plotting "Volume" prices
plot_stock_data(data, column='Volume')





# Plotting "Daily Return"
plot_stock_data(data, column='Daily Return')





import pandas as pd
import numpy as np
import matplotlib.pyplot as plt

# List of assets
assets = ['AAPL', 'MSFT', 'GOOGL', 'AMZN', 'TSLA', 'SPY', 'GLD']

# Create a dictionary to store dataframes for each asset
data = {}

# Loop through each asset to load
for asset in assets:
    # Define the file path
    file_path = f'../data/{asset}_enhanced_data.csv'
    
    # Load the data into a DataFrame
    df = pd.read_csv(file_path, index_col='Date', parse_dates=True)
    data[asset] = df

# Risk-free rate (assumed as a daily rate corresponding to ~2% annual rate)
risk_free_rate = 0.00005

# Function to calculate VaR and Sharpe Ratio for a given dataset
def calculate_risk_metrics(df, confidence_level=0.95):
    """
    Calculate the Value at Risk (VaR) and Sharpe Ratio for the given data.

    Parameters:
    - df: DataFrame containing the stock data with 'Daily Return' and 'Volatility'.
    - confidence_level: The confidence level for VaR calculation (default is 95%).

    Returns:
    - var: Calculated VaR at the given confidence level.
    - sharpe_ratio: Calculated Sharpe Ratio for the data.
    """
    # Calculate VaR using the historical method
    sorted_returns = np.sort(df['Daily Return'].dropna())
    index_at_var = int((1 - confidence_level) * len(sorted_returns))
    var = sorted_returns[index_at_var]
    
    # Calculate average return and standard deviation of returns
    average_return = df['Daily Return'].mean()
    volatility = df['Volatility'].mean()  # Already annualized in the data

    # Calculate Sharpe Ratio
    sharpe_ratio = (average_return - risk_free_rate) / volatility
    
    return var, sharpe_ratio

# Calculate VaR and Sharpe Ratio for each dataset
risk_metrics = []

for asset, df in data.items():
    var, sharpe_ratio = calculate_risk_metrics(df)
    risk_metrics.append({
        'Asset': asset,
        'VaR (95%)': var,
        'Sharpe Ratio': sharpe_ratio
    })

# Create a DataFrame for the risk metrics
risk_metrics_df = pd.DataFrame(risk_metrics)
print(risk_metrics_df.head())

# Visualize the results with a professional color palette
fig, ax1 = plt.subplots(figsize=(14, 8))

# Plot VaR values
ax1.bar(risk_metrics_df['Asset'], risk_metrics_df['VaR (95%)'], color='indianred', label=r'VaR $(95\%)$', alpha=0.7)
ax1.set_ylabel(r'VaR $(95\%)$', color='indianred', fontsize=12, fontweight='bold')
ax1.set_title('Risk Analysis: VaR and Sharpe Ratio', fontsize=14, fontweight='bold', pad=20)
ax1.axhline(0, color='gray', linewidth=0.8, linestyle='--')
ax1.tick_params(axis='y', labelcolor='indianred')

# Create a twin Axes sharing the x-axis for Sharpe Ratio
ax2 = ax1.twinx()
ax2.plot(risk_metrics_df['Asset'], risk_metrics_df['Sharpe Ratio'], color='royalblue', marker='o', markersize=8, linewidth=2, label='Sharpe Ratio')
ax2.set_ylabel('Sharpe Ratio', color='royalblue', fontsize=12, fontweight='bold')
ax2.tick_params(axis='y', labelcolor='royalblue')

# Add a legend and grid
fig.legend(loc='lower left', bbox_to_anchor=(0.05, 0.1), bbox_transform=ax1.transAxes, fontsize=10)
ax1.grid(False)
ax2.grid(True, color='royalblue', alpha = 0.5)

# Improve layout and spacing
plt.tight_layout()
plt.show()



# Function to calculate Parametric VaR and Sharpe Ratio for a given dataset
def calculate_risk_metrics_parametric(df, confidence_level=0.95):
    """
    Calculate the Parametric Value at Risk (VaR) and Sharpe Ratio for the given data.

    Parameters:
    - df: DataFrame containing the stock data with 'Daily Return' and 'Volatility'.
    - confidence_level: The confidence level for VaR calculation (default is 95%).

    Returns:
    - var: Calculated Parametric VaR at the given confidence level.
    - sharpe_ratio: Calculated Sharpe Ratio for the data.
    """
    # Calculate the mean and standard deviation of daily returns
    mean_return = df['Daily Return'].mean()
    std_deviation = df['Daily Return'].std()

    # Get the Z-score for the given confidence level
    z_score = norm.ppf(1 - confidence_level)

    # Calculate Parametric VaR using the formula
    var = mean_return - z_score * std_deviation
    
    # Calculate Sharpe Ratio
    sharpe_ratio = (mean_return - risk_free_rate) / std_deviation
    
    return var, sharpe_ratio

# Calculate VaR and Sharpe Ratio for each dataset
risk_metrics = []

for asset, df in data.items():
    var, sharpe_ratio = calculate_risk_metrics_parametric(df)
    risk_metrics.append({
        'Asset': asset,
        'VaR (95%)': var,
        'Sharpe Ratio': sharpe_ratio
    })

# Create a DataFrame for the risk metrics
risk_metrics_df = pd.DataFrame(risk_metrics)
print(risk_metrics_df.head())

# Visualize the results with a professional color palette
fig, ax1 = plt.subplots(figsize=(14, 8))

# Plot VaR values
ax1.bar(risk_metrics_df['Asset'], risk_metrics_df['VaR (95%)'], color='indianred', label=r'VaR $(95\%)$', alpha=0.7)
ax1.set_ylabel(r'VaR $(95\%)$', color='indianred', fontsize=12, fontweight='bold')
ax1.set_title('Risk Analysis: Parametric VaR and Sharpe Ratio', fontsize=14, fontweight='bold', pad=20)
ax1.axhline(0, color='gray', linewidth=0.8, linestyle='--')
ax1.tick_params(axis='y', labelcolor='indianred')

# Create a twin Axes sharing the x-axis for Sharpe Ratio
ax2 = ax1.twinx()
ax2.plot(risk_metrics_df['Asset'], risk_metrics_df['Sharpe Ratio'], color='royalblue', marker='o', markersize=8, linewidth=2, label='Sharpe Ratio')
ax2.set_ylabel('Sharpe Ratio', color='royalblue', fontsize=12, fontweight='bold')
ax2.tick_params(axis='y', labelcolor='royalblue')

# Add a legend and grid
fig.legend(loc='lower left', bbox_to_anchor=(0.05, 0.1), bbox_transform=ax1.transAxes, fontsize=10)
ax1.grid(False)
ax2.grid(True, color='royalblue', alpha=0.5)

# Improve layout and spacing
plt.tight_layout()
plt.show()








# Calculate stock price growth for the last 10 years
start_date = '2020-01-01'
end_date = '2023-12-31'

min_prices = []
max_prices = []
growth_percentages = []

for asset, df in data.items():
    # Find the initial and final prices
    initial_price = df.loc[df.index >= start_date, 'Close'].iloc[0]
    final_price = df.loc[df.index <= end_date, 'Close'].iloc[-1]
    
    # Calculate growth percentage
    growth_percentage = ((final_price - initial_price) / initial_price) * 100
    
    # Store results
    min_prices.append(initial_price)
    max_prices.append(final_price)
    growth_percentages.append(growth_percentage)

# Print minimum and maximum prices
print("Minimum Prices (Start of Period):", min_prices)
print("Maximum Prices (End of Period):", max_prices)
print("Growth Percentages:", growth_percentages)

# Visualize the growth
fig, ax = plt.subplots(figsize=(15, 7))
ax.barh(y=assets, width=growth_percentages, height=0.9, color='steelblue', edgecolor='black')

# Annotate the bars with growth percentages
for i, (growth, asset) in enumerate(zip(growth_percentages, assets)):
    ax.annotate(f'{round(growth, 1)}%', (growth, i), xytext=(5, 0), textcoords='offset points', va='center')

ax.set_xlabel('Percentage Growth in Stock Price')
ax.set_ylabel('Assets')
ax.set_title('Growth in Stock Price Over the Last 4 Years')
plt.show()



