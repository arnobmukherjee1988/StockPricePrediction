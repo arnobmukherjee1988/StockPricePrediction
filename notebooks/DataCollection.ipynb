{
 "cells": [
  {
   "cell_type": "code",
   "execution_count": 1,
   "id": "e4f84c03-7991-4b75-bfdf-d3959361b4ef",
   "metadata": {},
   "outputs": [],
   "source": [
    "# Import reqired libraries\n",
    "import numpy as np\n",
    "import yfinance as yf\n",
    "import pandas as pd\n",
    "import os"
   ]
  },
  {
   "cell_type": "code",
   "execution_count": 2,
   "id": "9d3130bf-33ce-486b-b9ab-74d72374eb9a",
   "metadata": {},
   "outputs": [],
   "source": [
    "# List of diverse stock symbols and ETFs\n",
    "# AAPL: Apple Inc.\n",
    "# MSFT: Microsoft Corporation\n",
    "# GOOGL: Alphabet Inc. (Google)\n",
    "# AMZN: Amazon.com Inc.\n",
    "# TSLA: Tesla Inc.\n",
    "# SPY: SPDR S&P 500 ETF Trust (an ETF that tracks the S&P 500)\n",
    "# GLD: SPDR Gold Shares (an ETF that tracks the price of gold)\n",
    "# BTC-USD: Bitcoin in USD (Cryptocurrency)\n",
    "assets = ['AAPL', 'MSFT', 'GOOGL', 'AMZN', 'TSLA', 'SPY', 'GLD', 'BTC-USD']\n",
    "\n",
    "# Define the time period\n",
    "start_date = '2010-01-01'\n",
    "end_date = '2023-01-01'"
   ]
  },
  {
   "cell_type": "code",
   "execution_count": 3,
   "id": "533dc17f-e201-44dd-8e5d-b90dadba823b",
   "metadata": {},
   "outputs": [],
   "source": [
    "# Create a directory to save the data if it doesn't exist\n",
    "os.makedirs('../data', exist_ok=True)"
   ]
  },
  {
   "cell_type": "markdown",
   "id": "a89631a1",
   "metadata": {},
   "source": [
    "1. **Daily Returns**:\n",
    "   $R_t = \\frac{P_t - P_{t-1}}{P_{t-1}}$\n",
    "\n",
    "   where $R_t$ is the daily return, $P_t$ is the adjusted closing price at time $t$, and $P_{t-1}$ is the adjusted closing price at time $t-1$.\n",
    "\n",
    "2. **Moving Averages**:\n",
    "   - 20-day Moving Average (MA20):\n",
    "     $MA_{20} = \\frac{1}{20} \\sum_{i=0}^{19} P_{t-i}$\n",
    "\n",
    "   - 50-day Moving Average (MA50):\n",
    "     $MA_{50} = \\frac{1}{50} \\sum_{i=0}^{49} P_{t-i}$\n",
    "\n",
    "3. **Volatility**:\n",
    "   - 20-day Volatility (standard deviation of daily returns):\n",
    "     $\\sigma_{20} = \\sqrt{\\frac{1}{20} \\sum_{i=0}^{19} (R_{t-i} - \\mu)^2}$\n",
    "\n",
    "     where $\\sigma_{20}$ is the 20-day volatility, $R_{t-i}$ is the daily return at time $t-i$, and $\\mu$ is the mean daily return over the past 20 days.\n"
   ]
  },
  {
   "cell_type": "code",
   "execution_count": 4,
   "id": "3fbf8bf3",
   "metadata": {},
   "outputs": [],
   "source": [
    "def add_features(df):\n",
    "  \"\"\"\n",
    "  Adds additional features to the stock data DataFrame.\n",
    "  Parameters --> : df (DataFrame) containing stock data.\n",
    "  Returns --> DataFrame with additional features.\n",
    "  \"\"\"\n",
    "  # Calculate daily returns as the percentage change of the adjusted close price\n",
    "  df['Daily Return'] = df['Adj Close'].pct_change()\n",
    "  \n",
    "  # Calculate the 20-day moving average of the adjusted close price\n",
    "  df['MA20'] = df['Adj Close'].rolling(window=20).mean()\n",
    "  \n",
    "  # Calculate the 50-day moving average of the adjusted close price\n",
    "  df['MA50'] = df['Adj Close'].rolling(window=50).mean()\n",
    "  \n",
    "  # Calculate the volatility (standard deviation of daily returns) over a 20-day window\n",
    "  df['Volatility'] = df['Daily Return'].rolling(window=20).std()\n",
    "  \n",
    "  # Drop any rows with NaN values resulting from the calculations above\n",
    "  df.dropna(inplace=True)\n",
    "  \n",
    "  return df"
   ]
  },
  {
   "cell_type": "code",
   "execution_count": 5,
   "id": "72ecd882-1264-42ed-8d43-4a08aea7bfe3",
   "metadata": {},
   "outputs": [
    {
     "name": "stderr",
     "output_type": "stream",
     "text": [
      "[*********************100%%**********************]  1 of 1 completed\n"
     ]
    },
    {
     "name": "stdout",
     "output_type": "stream",
     "text": [
      "Enhanced data for AAPL:\n",
      "                Open      High       Low     Close  Adj Close     Volume  \\\n",
      "Date                                                                       \n",
      "2010-03-16  8.006429  8.035000  7.946786  8.016071   6.777210  446908000   \n",
      "2010-03-17  8.032143  8.087500  7.973929  8.004286   6.767246  450956800   \n",
      "2010-03-18  8.003571  8.035714  7.950357  8.023214   6.783249  342109600   \n",
      "2010-03-19  8.028214  8.044286  7.901071  7.937500   6.710782  559445600   \n",
      "2010-03-22  7.873929  8.071429  7.862500  8.026786   6.786267  456419600   \n",
      "\n",
      "            Daily Return      MA20      MA50  Volatility  \n",
      "Date                                                      \n",
      "2010-03-16      0.002725  6.395352  6.249025    0.012642  \n",
      "2010-03-17     -0.001470  6.427917  6.255130    0.012552  \n",
      "2010-03-18      0.002365  6.460708  6.261332    0.012546  \n",
      "2010-03-19     -0.010683  6.491779  6.268144    0.012797  \n",
      "2010-03-22      0.011248  6.528511  6.276701    0.012590  \n",
      "\n",
      "\n"
     ]
    },
    {
     "name": "stderr",
     "output_type": "stream",
     "text": [
      "[*********************100%%**********************]  1 of 1 completed\n"
     ]
    },
    {
     "name": "stdout",
     "output_type": "stream",
     "text": [
      "Enhanced data for MSFT:\n",
      "                 Open       High        Low      Close  Adj Close    Volume  \\\n",
      "Date                                                                          \n",
      "2010-03-16  29.420000  29.490000  29.200001  29.370001  22.299158  36723500   \n",
      "2010-03-17  29.500000  29.870001  29.400000  29.629999  22.496557  50385700   \n",
      "2010-03-18  29.629999  29.719999  29.500000  29.610001  22.481384  43845200   \n",
      "2010-03-19  29.760000  29.900000  29.350000  29.590000  22.466194  81332100   \n",
      "2010-03-22  29.500000  29.700001  29.389999  29.600000  22.473787  37718200   \n",
      "\n",
      "            Daily Return       MA20       MA50  Volatility  \n",
      "Date                                                        \n",
      "2010-03-16      0.002731  21.864869  22.082858    0.008102  \n",
      "2010-03-17      0.008852  21.904350  22.065001    0.008119  \n",
      "2010-03-18     -0.000674  21.928646  22.046689    0.007669  \n",
      "2010-03-19     -0.000676  21.959775  22.030946    0.007449  \n",
      "2010-03-22      0.000338  21.992803  22.020190    0.007425  \n",
      "\n",
      "\n"
     ]
    },
    {
     "name": "stderr",
     "output_type": "stream",
     "text": [
      "[*********************100%%**********************]  1 of 1 completed\n"
     ]
    },
    {
     "name": "stdout",
     "output_type": "stream",
     "text": [
      "Enhanced data for GOOGL:\n",
      "                 Open       High        Low      Close  Adj Close     Volume  \\\n",
      "Date                                                                           \n",
      "2010-03-16  14.059810  14.224725  14.033033  14.144144  14.127930  137122740   \n",
      "2010-03-17  14.221722  14.300551  14.120370  14.153153  14.136929  132731136   \n",
      "2010-03-18  14.132132  14.225225  14.088088  14.174174  14.157926   71016912   \n",
      "2010-03-19  14.014014  14.214214  13.945946  14.014014  13.997949  191576232   \n",
      "2010-03-22  13.916667  14.185435  13.870871  13.951451  13.935457  160031808   \n",
      "\n",
      "            Daily Return       MA20       MA50  Volatility  \n",
      "Date                                                        \n",
      "2010-03-16      0.003587  13.761496  13.939177    0.012912  \n",
      "2010-03-17      0.000637  13.795678  13.908587    0.012784  \n",
      "2010-03-18      0.001485  13.824649  13.879796    0.012686  \n",
      "2010-03-19     -0.011299  13.848696  13.855670    0.012961  \n",
      "2010-03-22     -0.004464  13.867068  13.837372    0.013027  \n",
      "\n",
      "\n"
     ]
    },
    {
     "name": "stderr",
     "output_type": "stream",
     "text": [
      "[*********************100%%**********************]  1 of 1 completed\n",
      "[*********************100%%**********************]  1 of 1 completed\n"
     ]
    },
    {
     "name": "stdout",
     "output_type": "stream",
     "text": [
      "Enhanced data for AMZN:\n",
      "              Open    High    Low   Close  Adj Close     Volume  Daily Return  \\\n",
      "Date                                                                            \n",
      "2010-03-16  6.5620  6.6145  6.525  6.5895     6.5895   82650000      0.005033   \n",
      "2010-03-17  6.6205  6.6345  6.561  6.5670     6.5670   87176000     -0.003415   \n",
      "2010-03-18  6.5510  6.6425  6.522  6.6380     6.6380  100426000      0.010812   \n",
      "2010-03-19  6.6855  6.6855  6.483  6.5175     6.5175  178100000     -0.018153   \n",
      "2010-03-22  6.5100  6.5480  6.432  6.5235     6.5235  107668000      0.000921   \n",
      "\n",
      "                MA20     MA50  Volatility  \n",
      "Date                                       \n",
      "2010-03-16  6.236600  6.21460    0.015716  \n",
      "2010-03-17  6.274175  6.21204    0.015412  \n",
      "2010-03-18  6.310875  6.21011    0.015307  \n",
      "2010-03-19  6.342950  6.20821    0.016076  \n",
      "2010-03-22  6.374100  6.20868    0.016105  \n",
      "\n",
      "\n",
      "Enhanced data for TSLA:\n",
      "                Open      High       Low     Close  Adj Close   Volume  \\\n",
      "Date                                                                     \n",
      "2010-09-08  1.377333  1.396667  1.373333  1.393333   1.393333  4326000   \n",
      "2010-09-09  1.400000  1.403333  1.379333  1.380667   1.380667  5643000   \n",
      "2010-09-10  1.383333  1.395333  1.317333  1.344667   1.344667  5799000   \n",
      "2010-09-13  1.392667  1.393333  1.366667  1.381333   1.381333  5412000   \n",
      "2010-09-14  1.369333  1.440000  1.368667  1.408000   1.408000  9820500   \n",
      "\n",
      "            Daily Return      MA20      MA50  Volatility  \n",
      "Date                                                      \n",
      "2010-09-08      0.017527  1.301467  1.322240    0.030604  \n",
      "2010-09-09     -0.009090  1.310833  1.318000    0.026861  \n",
      "2010-09-10     -0.026074  1.319400  1.313120    0.027382  \n",
      "2010-09-13      0.027268  1.327400  1.311467    0.026658  \n",
      "2010-09-14      0.019305  1.335200  1.314027    0.026476  \n",
      "\n",
      "\n"
     ]
    },
    {
     "name": "stderr",
     "output_type": "stream",
     "text": [
      "[*********************100%%**********************]  1 of 1 completed\n",
      "[*********************100%%**********************]  1 of 1 completed"
     ]
    },
    {
     "name": "stdout",
     "output_type": "stream",
     "text": [
      "Enhanced data for SPY:\n",
      "                  Open        High         Low       Close  Adj Close  \\\n",
      "Date                                                                    \n",
      "2010-03-16  115.809998  116.519997  115.489998  116.410004  88.933800   \n",
      "2010-03-17  116.760002  117.480003  116.419998  117.099998  89.460876   \n",
      "2010-03-18  117.110001  117.269997  116.570000  117.040001  89.415085   \n",
      "2010-03-19  115.970001  117.290001  115.519997  115.970001  88.962479   \n",
      "2010-03-22  115.309998  116.800003  115.239998  116.589996  89.438080   \n",
      "\n",
      "               Volume  Daily Return       MA20       MA50  Volatility  \n",
      "Date                                                                   \n",
      "2010-03-16  168673000      0.007967  86.149104  85.250521    0.005395  \n",
      "2010-03-17  177468100      0.005927  86.410379  85.308123    0.005422  \n",
      "2010-03-18  196509100     -0.000512  86.644537  85.360226    0.005433  \n",
      "2010-03-19  226641100     -0.005062  86.847279  85.402055    0.005704  \n",
      "2010-03-22  184477800      0.005346  87.073035  85.446061    0.005718  \n",
      "\n",
      "\n"
     ]
    },
    {
     "name": "stderr",
     "output_type": "stream",
     "text": [
      "\n"
     ]
    },
    {
     "name": "stdout",
     "output_type": "stream",
     "text": [
      "Enhanced data for GLD:\n",
      "                  Open        High         Low       Close   Adj Close  \\\n",
      "Date                                                                     \n",
      "2010-03-16  110.019997  110.570000  109.699997  110.400002  110.400002   \n",
      "2010-03-17  110.180000  110.459999  109.550003  109.589996  109.589996   \n",
      "2010-03-18  110.099998  110.610001  109.500000  110.339996  110.339996   \n",
      "2010-03-19  108.279999  110.290001  107.849998  108.279999  108.279999   \n",
      "2010-03-22  107.309998  108.000000  106.949997  107.750000  107.750000   \n",
      "\n",
      "              Volume  Daily Return        MA20      MA50  Volatility  \n",
      "Date                                                                  \n",
      "2010-03-16  17749300      0.018826  109.393000  108.8286    0.008321  \n",
      "2010-03-17  13784300     -0.007337  109.409999  108.8244    0.008461  \n",
      "2010-03-18  13848400      0.006844  109.427999  108.8372    0.008468  \n",
      "2010-03-19  24329100     -0.018670  109.368499  108.7726    0.009417  \n",
      "2010-03-22  11579400     -0.004895  109.302499  108.7112    0.009443  \n",
      "\n",
      "\n"
     ]
    },
    {
     "name": "stderr",
     "output_type": "stream",
     "text": [
      "[*********************100%%**********************]  1 of 1 completed"
     ]
    },
    {
     "name": "stdout",
     "output_type": "stream",
     "text": [
      "Enhanced data for BTC-USD:\n",
      "                  Open        High         Low       Close   Adj Close  \\\n",
      "Date                                                                     \n",
      "2014-11-05  330.683014  343.368988  330.683014  339.485992  339.485992   \n",
      "2014-11-06  339.458008  352.966003  338.424011  349.290009  349.290009   \n",
      "2014-11-07  349.817993  352.731995  341.776001  342.415009  342.415009   \n",
      "2014-11-08  342.153992  347.032013  342.153992  345.488007  345.488007   \n",
      "2014-11-09  345.376007  363.626007  344.255005  363.264008  363.264008   \n",
      "\n",
      "              Volume  Daily Return        MA20        MA50  Volatility  \n",
      "Date                                                                    \n",
      "2014-11-05  19817200      0.027214  355.747899  372.766840    0.026468  \n",
      "2014-11-06  18797000      0.028879  354.024500  370.605960    0.027520  \n",
      "2014-11-07  16834200     -0.019683  351.573151  368.965460    0.027100  \n",
      "2014-11-08   8535470      0.008974  349.370251  367.979301    0.027315  \n",
      "2014-11-09  24205600      0.051452  348.391202  367.066501    0.029968  \n",
      "\n",
      "\n"
     ]
    },
    {
     "name": "stderr",
     "output_type": "stream",
     "text": [
      "\n"
     ]
    }
   ],
   "source": [
    "# Download historical stock data for the given symbol and time period\n",
    "for asset in assets:\n",
    "  stock_data = yf.download(asset, start=start_date, end=end_date)\n",
    "  \n",
    "  # Save the raw data to a CSV file\n",
    "  stock_data.to_csv(f'../data/{asset}_historical_data.csv')\n",
    "  \n",
    "  # Add features\n",
    "  stock_data = add_features(stock_data)\n",
    "  \n",
    "  # Save the enhanced data to a new CSV file\n",
    "  stock_data.to_csv(f'../data/{asset}_enhanced_data.csv')\n",
    "  \n",
    "  # Display the first few rows of the enhanced data\n",
    "  print(f\"Enhanced data for {asset}:\")\n",
    "  print(stock_data.head())\n",
    "  print(\"\\n\")\n"
   ]
  },
  {
   "cell_type": "code",
   "execution_count": null,
   "id": "d842e208",
   "metadata": {},
   "outputs": [],
   "source": []
  }
 ],
 "metadata": {
  "kernelspec": {
   "display_name": "Python 3 (ipykernel)",
   "language": "python",
   "name": "python3"
  },
  "language_info": {
   "codemirror_mode": {
    "name": "ipython",
    "version": 3
   },
   "file_extension": ".py",
   "mimetype": "text/x-python",
   "name": "python",
   "nbconvert_exporter": "python",
   "pygments_lexer": "ipython3",
   "version": "3.11.7"
  }
 },
 "nbformat": 4,
 "nbformat_minor": 5
}
