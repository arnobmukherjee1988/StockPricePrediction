# Import reqired libraries
import numpy as np
import yfinance as yf
import pandas as pd
import os


# List of diverse stock symbols and ETFs
# AAPL: Apple Inc.
# MSFT: Microsoft Corporation
# GOOGL: Alphabet Inc. (Google)
# AMZN: Amazon.com Inc.
# TSLA: Tesla Inc.
# SPY: SPDR S&P 500 ETF Trust (an ETF that tracks the S&P 500)
# GLD: SPDR Gold Shares (an ETF that tracks the price of gold)
# BTC-USD: Bitcoin in USD (Cryptocurrency)
assets = ['AAPL', 'MSFT', 'GOOGL', 'AMZN', 'TSLA', 'SPY', 'GLD', 'BTC-USD']

# Define the time period
start_date = '2000-01-01'
end_date = '2023-01-01'


# Create a directory to save the data if it doesn't exist
os.makedirs('../data', exist_ok=True)





def add_features(df):
  """
  Adds additional features to the stock data DataFrame.
  Parameters --> : df (DataFrame) containing stock data.
  Returns --> DataFrame with additional features.
  """
  # Calculate daily returns as the percentage change of the adjusted close price
  df['Daily Return'] = df['Adj Close'].pct_change()
  
  # Calculate the 20-day moving average of the adjusted close price
  df['MA20'] = df['Adj Close'].rolling(window=20).mean()
  
  # Calculate the 50-day moving average of the adjusted close price
  df['MA50'] = df['Adj Close'].rolling(window=50).mean()

  # Exponential Moving Averages
  df['EMA20'] = df['Close'].ewm(span=20, adjust=False).mean()
  df['EMA50'] = df['Close'].ewm(span=50, adjust=False).mean()

  # Relative Strength Index (RSI)
  delta = df['Close'].diff(1)
  gain = delta.where(delta > 0, 0)
  loss = -delta.where(delta < 0, 0)
  avg_gain = gain.rolling(window=14).mean()
  avg_loss = loss.rolling(window=14).mean()
  rs = avg_gain / avg_loss
  df['RSI'] = 100 - (100 / (1 + rs))

  # Moving Average Convergence Divergence (MACD)
  df['MACD'] = df['EMA20'] - df['EMA50']
  df['Signal Line'] = df['MACD'].ewm(span=9, adjust=False).mean()
  
  # Calculate the volatility (standard deviation of daily returns) over a 20-day window
  df['Volatility'] = df['Daily Return'].rolling(window=20).std()

  # Bollinger Bands
  df['Upper Band'] = df['MA20'] + (df['Adj Close'].rolling(window=20).std() * 2)
  df['Lower Band'] = df['MA20'] - (df['Adj Close'].rolling(window=20).std() * 2)
    
  # Lagged features
  df['Lag_1'] = df['Adj Close'].shift(1)
  df['Lag_2'] = df['Adj Close'].shift(2)
  df['Lag_3'] = df['Adj Close'].shift(3)
  
  # Drop any rows with NaN values resulting from the calculations above
  df.dropna(inplace=True)
  
  return df


# Download historical stock data for the given symbol and time period
for asset in assets:
  stock_data = yf.download(asset, start=start_date, end=end_date)
  
  # Save the raw data to a CSV file
  stock_data.to_csv(f'../data/{asset}_historical_data.csv')
  
  # Add features
  stock_data = add_features(stock_data)
  
  # Save the enhanced data to a new CSV file
  stock_data.to_csv(f'../data/{asset}_enhanced_data.csv')
  
  # Display the first few rows of the enhanced data
  print(f"Enhanced data for {asset}:")
  print(stock_data.head())
  print("\n")




