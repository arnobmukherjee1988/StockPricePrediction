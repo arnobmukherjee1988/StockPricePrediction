


# Import reqired libraries
import numpy as np
import yfinance as yf
import pandas as pd
import os
import matplotlib.pyplot as plt

# Set display options
pd.set_option('display.max_columns', None)  # Display all columns
pd.set_option('display.width', 1000)        # Set display width to a high value





# Function to print colored text
def print_colored(text, color):
    color_codes = {
        'black': '0;30',
        'red': '0;31',
        'green': '0;32',
        'yellow': '0;33',
        'blue': '0;34',
        'purple': '0;35',
        'cyan': '0;36',
        'white': '0;37',
        'bold_black': '1;30',
        'bold_red': '1;31',
        'bold_green': '1;32',
        'bold_yellow': '1;33',
        'bold_blue': '1;34',
        'bold_purple': '1;35',
        'bold_cyan': '1;36',
        'bold_white': '1;37'
    }
    color_code = color_codes.get(color, '0;30')  # Default to white if color not found
    print(f"\033[{color_code}m{text}\033[0m")





# List of assets
assets = ['AAPL', 'MSFT', 'GOOGL', 'AMZN', 'TSLA', 'SPY', 'GLD', 'BTC-USD']

# Loop through each asset to load and display data
for asset in assets:
    # Define the file path
    file_path = f'../data/{asset}_enhanced_data.csv'
    
    # Load the data into a DataFrame
    df = pd.read_csv(file_path, index_col='Date', parse_dates=True)





for asset in assets:
    print_colored(f"\n{asset} data:", 'blue')
    print(df.head())





for asset in assets:
  print_colored(f"\n{asset} DataFrame Info:", "blue")
  print(df.info())





# Loop through each asset to load data, explore, and visualize
for asset in assets:
  # Basic Data Exploration
  print_colored(f"\n{asset} Summary Statistics:", "blue")
  print(df.describe())


for asset in assets:
  print_colored(f"\n{asset} Missing Values:", "blue")
  print(df.isnull().sum())


# Loop through each asset to load data, explore, and visualize
for asset in assets:
  
  # Visualize Adjusted Close Prices
  plt.figure(figsize=(14, 7))
  plt.plot(df['Adj Close'], label=f'{asset} Adj Close')
  plt.title(f'{asset} - Adjusted Close Prices')
  plt.xlabel('Date')
  plt.ylabel('Price')
  plt.legend()
  plt.show()
  
  # Visualize Daily Returns
  plt.figure(figsize=(14, 7))
  plt.plot(df['Daily Return'], label=f'{asset} Daily Return')
  plt.title(f'{asset} - Daily Returns')
  plt.xlabel('Date')
  plt.ylabel('Daily Return')
  plt.legend()
  plt.show()
  
  # Plot Moving Averages
  plt.figure(figsize=(14, 7))
  plt.plot(df['Adj Close'], label='Adj Close')
  plt.plot(df['MA20'], label='MA20')
  plt.plot(df['MA50'], label='MA50')
  plt.title(f'{asset} - Moving Averages')
  plt.xlabel('Date')
  plt.ylabel('Price')
  plt.legend()
  plt.show()
  
  # Plot Volatility
  plt.figure(figsize=(14, 7))
  plt.plot(df['Volatility'], label='Volatility')
  plt.title(f'{asset} - Volatility')
  plt.xlabel('Date')
  plt.ylabel('Volatility')
  plt.legend()
  plt.show()







# Correlation Analysis
# Create a DataFrame to store adjusted close prices of all assets
adj_close_df = pd.DataFrame()

for asset in assets:
    file_path = f'../data/{asset}_enhanced_data.csv'
    df = pd.read_csv(file_path, index_col='Date', parse_dates=True)
    adj_close_df[asset] = df['Adj Close']

# Compute correlation matrix
corr_matrix = adj_close_df.corr()

# Visualize the correlation matrix
plt.figure(figsize=(10, 8))
plt.matshow(corr_matrix, cmap='coolwarm', fignum=1)
plt.colorbar()
plt.xticks(range(len(corr_matrix.columns)), corr_matrix.columns, rotation=90)
plt.yticks(range(len(corr_matrix.columns)), corr_matrix.columns)
plt.title('Correlation Matrix of Adjusted Close Prices', pad=20)
plt.show()







